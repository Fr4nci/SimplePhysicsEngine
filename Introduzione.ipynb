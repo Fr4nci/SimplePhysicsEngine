{
 "cells": [
  {
   "cell_type": "markdown",
   "metadata": {},
   "source": [
    "# Creazione di un Physics-Engine in C++\n",
    "\n",
    "Nella computer science una branca molto importante di essa è sicuramente quella legate alla simulazione dei fenomeni fisici. In generale, la simulazione di questi avviene tramite dei metodi numerici a teorie già esistenti per ottenere il risultato più accurato possibile a quello che si vede nel mondo reale. \n",
    "Questo consente, ad esempio, ai programmatori di videogiochi di predire e analizzare correttamente come qualcosa si comporterà prima ancora di averlo di fatto \"costruito\" (si intende, con questa costruzione del periodo abbastanza oscura, di fissare il comportamento delle cose che includerà nel suo gioco prima ancora di aver effettivamente costruito).\n",
    "\n",
    "## Dinamica del corpo rigido\n",
    "\n",
    "Nei videogiochi vogliamo animare degli oggetti che, difficilmente, si comportano come dei *punti materiali* (anche se a noi fisici piacerebbe molto) ma come dei corpi rigidi. Prima però di arrivare a ciò, fissiamo dei concetti molto utili che ci serviranno più avanti.\n",
    "\n",
    "Come si produce l'animazione di un moto? Si produce una sequenza di immagine in una successione e, se queste sono mostrare \"velocemente\", queste daranno l'idea di un movimento continuo e regolare. Dunque dobbiamo modificare molto frequentemente lo stato fisico del nostro sistema, in accordo con le leggi teoriche utilizzate e dal tipo di fenomeno che si sta cercando di rappresentare.\n",
    "\n",
    "Da qua dunque si arriva a definire il concetto di **physics engine**: una componente del software di un computer che performa la simulazione. Riceve delle specifiche riguardo ai corpi che si sta cercando di simulare (con dei parametri di configurazione) e la simulazione può essere eseguita per \"passi\", di una frazione di secondo.\n",
    "**Nota bene:** l'engine si occupa solamente di effettuare la simulazione numerica. Cosa dovrà essere fatto con i calcoli non è compito dell'engine\n",
    "\n",
    "Il moto dei corpi può essere modellato utilizzando la meccanica newtoniana (anche se in fondo ci occuperemo anche della fisica con vincoli, che permette anche la formulazione di una meccanica lagrangiana) che può essere formulata tramite le tre leggi di Newton:\n",
    "1) Inerzia: un corpo permane nel suo stato di quiete o di moto rettilineo uniforme se la risultante delle forze applicate all'oggetto è nulla;\n",
    "2) $\\vec{F}=m\\vec{a}$: la risultante delle forze applicate ad un oggetto è proporzionale alla massa;\n",
    "3) Legge di azione e reazione: se un corpo A esercita una forza su un corpo B pari a $\\vec{F}_{A \\to B}$ allora B esercita una forza opposta e uguale in modulo al corpo A\n",
    "\n",
    "Tramite queste leggi, è possibile rappresentare qualunque moto presente in natura\n",
    "\n",
    "\n",
    "![metodo_simulativo](https://assets.toptal.io/images?url=https%3A%2F%2Fuploads.toptal.io%2Fblog%2Fimage%2F765%2Ftoptal-blog-image-1421917038776.png&width=1920)\n",
    "\n",
    "\n",
    "Ora, per capire come funziona una simulazione è necessario ovviamente utilizzare i vettori o, più precisamente, un sistema di assi dove la posizione di un corpo verrà indicata da una terna di coordinate\n",
    "$$\n",
    "    \\vec{r}(t_0) = x_0 \\hat{x} + y_0 \\hat{y} + z_0 \\hat{z} \n",
    "$$\n",
    "\n",
    "### Punto materiale\n",
    "\n",
    "Per entrare più in profondità con l'argomento, possiamo pensare di iniziare simulando delle particelle, che risulta essere molto più semplice rispetto alla simulazione del corpo rigido. Una particella può essere definita come un punto nello spazio a cui è assegnata una massa, un vettore posizione e una velocità e, in accordo con la prima legge di Newton, la sua velocità cambierà esclusivamente se una forza è applicato su di esso. Quando la velocità ha norma diversa da zero, la posizione cambierà nel tempo.\n",
    "\n",
    "Come simuliamo delle particelle? Possiamo pensare di considerare un array di particelle in uno stato iniziale e con una massa fissata (almeno per adesso). Successivamente, andiamo a computare tutte le forze agenti sulla particella $i$-esima e si va a calcolare l'accelerazione risultante dall'applicazione di queste, andando a calcolare posizione e velocità. Se lavoriamo con \"step\" di tempo molto piccoli possiamo affermare che\n",
    "\n",
    "$$\n",
    "\\begin{cases}\n",
    "    &\\vec{r}(t_{i+1}) = \\vec{r}(t_i + dt) = \\vec{r_{t_i}} + \\vec{v}(t_i)dt \\\\\n",
    "    &\\vec{a}(t_{i+1}) = \\vec{a}(t_i+dt) = \\vec{a_{t_i}} + \\frac{\\vec{F_{t_i}}}{m_i} \\\\\n",
    "    &\\vec{v}(t_{i+1}) = \\vec{v}(t_i + dt) = \\vec{v_{t_i}} + \\vec{a_{t_i}}dt \\\\\n",
    "\\end{cases}\n",
    "$$\n",
    "\n",
    "che alla fine non è tanto diverso da quello che si fa quando si cerca di risolvere un'equazione differenziale con librerie come $\\text{\\texttt{simpy}}$ in Python con librerie come $\\text{\\texttt{odeint()}}$"
   ]
  }
 ],
 "metadata": {
  "kernelspec": {
   "display_name": "base",
   "language": "python",
   "name": "python3"
  },
  "language_info": {
   "name": "python",
   "version": "3.11.7"
  }
 },
 "nbformat": 4,
 "nbformat_minor": 2
}
